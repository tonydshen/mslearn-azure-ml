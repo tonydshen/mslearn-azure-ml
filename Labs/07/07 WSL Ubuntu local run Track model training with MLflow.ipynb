{
  "cells": [
    {
      "attachments": {},
      "cell_type": "markdown",
      "metadata": {},
      "source": [
        "Check azure-ai-ml"
      ]
    },
    {
      "cell_type": "code",
      "execution_count": 1,
      "metadata": {
        "jupyter": {
          "outputs_hidden": false,
          "source_hidden": false
        },
        "nteract": {
          "transient": {
            "deleting": false
          }
        }
      },
      "outputs": [
        {
          "name": "stdout",
          "output_type": "stream",
          "text": [
            "Name: azure-ai-ml\n",
            "Version: 1.29.0\n",
            "Summary: Microsoft Azure Machine Learning Client Library for Python\n",
            "Home-page: https://github.com/Azure/azure-sdk-for-python\n",
            "Author: Microsoft Corporation\n",
            "Author-email: azuresdkengsysadmins@microsoft.com\n",
            "License: MIT License\n",
            "Location: /home/tshen/dp-100/mslearn-azure-ml/.venv/lib/python3.12/site-packages\n",
            "Requires: azure-common, azure-core, azure-mgmt-core, azure-monitor-opentelemetry, azure-storage-blob, azure-storage-file-datalake, azure-storage-file-share, colorama, isodate, jsonschema, marshmallow, pydash, pyjwt, pyyaml, strictyaml, tqdm, typing-extensions\n",
            "Required-by: \n",
            "Note: you may need to restart the kernel to use updated packages.\n"
          ]
        }
      ],
      "source": [
        "pip show azure-ai-ml"
      ]
    },
    {
      "attachments": {},
      "cell_type": "markdown",
      "metadata": {},
      "source": [
        "Connect to my workspace in Azure ML"
      ]
    },
    {
      "cell_type": "code",
      "execution_count": 2,
      "metadata": {
        "gather": {
          "logged": 1668168317138
        },
        "jupyter": {
          "outputs_hidden": false,
          "source_hidden": false
        },
        "nteract": {
          "transient": {
            "deleting": false
          }
        }
      },
      "outputs": [
        {
          "data": {
            "text/plain": [
              "MLClient(credential=<azure.identity._credentials.default.DefaultAzureCredential object at 0x7b569c121d30>,\n",
              "         subscription_id=c6cdfd9c-3767-4be7-a343-0acd27ddefb9,\n",
              "         resource_group_name=rg-tshen-0917,\n",
              "         workspace_name=ml-ws-tshen-0917)"
            ]
          },
          "execution_count": 2,
          "metadata": {},
          "output_type": "execute_result"
        }
      ],
      "source": [
        "#import required libraries\n",
        "from azure.ai.ml import MLClient\n",
        "from azure.identity import DefaultAzureCredential\n",
        "#Enter    details    of    your    Azure    Machine    Learning    workspace\n",
        "subscription_id = 'c6cdfd9c-3767-4be7-a343-0acd27ddefb9'\n",
        "resource_group = 'rg-tshen-0917'\n",
        "workspace = 'ml-ws-tshen-0917'\n",
        "#connect to the workspace\n",
        "ml_client    =    MLClient(DefaultAzureCredential(),    subscription_id,\n",
        "resource_group,    workspace)\n",
        "ml_client"
      ]
    },
    {
      "attachments": {},
      "cell_type": "markdown",
      "metadata": {},
      "source": [
        "Configure MLflow"
      ]
    },
    {
      "cell_type": "code",
      "execution_count": 2,
      "metadata": {
        "gather": {
          "logged": 1668168155287
        },
        "jupyter": {
          "outputs_hidden": false,
          "source_hidden": false
        },
        "nteract": {
          "transient": {
            "deleting": false
          }
        }
      },
      "outputs": [
        {
          "name": "stdout",
          "output_type": "stream",
          "text": [
            "Name: mlflow\n",
            "Version: 3.4.0\n",
            "Summary: MLflow is an open source platform for the complete machine learning lifecycle\n",
            "Home-page: \n",
            "Author: \n",
            "Author-email: \n",
            "License: Copyright 2018 Databricks, Inc.  All rights reserved.\n",
            "\n",
            "                                Apache License\n",
            "                           Version 2.0, January 2004\n",
            "                        http://www.apache.org/licenses/\n",
            "\n",
            "   TERMS AND CONDITIONS FOR USE, REPRODUCTION, AND DISTRIBUTION\n",
            "\n",
            "   1. Definitions.\n",
            "\n",
            "      \"License\" shall mean the terms and conditions for use, reproduction,\n",
            "      and distribution as defined by Sections 1 through 9 of this document.\n",
            "\n",
            "      \"Licensor\" shall mean the copyright owner or entity authorized by\n",
            "      the copyright owner that is granting the License.\n",
            "\n",
            "      \"Legal Entity\" shall mean the union of the acting entity and all\n",
            "      other entities that control, are controlled by, or are under common\n",
            "      control with that entity. For the purposes of this definition,\n",
            "      \"control\" means (i) the power, direct or indirect, to cause the\n",
            "      direction or management of such entity, whether by contract or\n",
            "      otherwise, or (ii) ownership of fifty percent (50%) or more of the\n",
            "      outstanding shares, or (iii) beneficial ownership of such entity.\n",
            "\n",
            "      \"You\" (or \"Your\") shall mean an individual or Legal Entity\n",
            "      exercising permissions granted by this License.\n",
            "\n",
            "      \"Source\" form shall mean the preferred form for making modifications,\n",
            "      including but not limited to software source code, documentation\n",
            "      source, and configuration files.\n",
            "\n",
            "      \"Object\" form shall mean any form resulting from mechanical\n",
            "      transformation or translation of a Source form, including but\n",
            "      not limited to compiled object code, generated documentation,\n",
            "      and conversions to other media types.\n",
            "\n",
            "      \"Work\" shall mean the work of authorship, whether in Source or\n",
            "      Object form, made available under the License, as indicated by a\n",
            "      copyright notice that is included in or attached to the work\n",
            "      (an example is provided in the Appendix below).\n",
            "\n",
            "      \"Derivative Works\" shall mean any work, whether in Source or Object\n",
            "      form, that is based on (or derived from) the Work and for which the\n",
            "      editorial revisions, annotations, elaborations, or other modifications\n",
            "      represent, as a whole, an original work of authorship. For the purposes\n",
            "      of this License, Derivative Works shall not include works that remain\n",
            "      separable from, or merely link (or bind by name) to the interfaces of,\n",
            "      the Work and Derivative Works thereof.\n",
            "\n",
            "      \"Contribution\" shall mean any work of authorship, including\n",
            "      the original version of the Work and any modifications or additions\n",
            "      to that Work or Derivative Works thereof, that is intentionally\n",
            "      submitted to Licensor for inclusion in the Work by the copyright owner\n",
            "      or by an individual or Legal Entity authorized to submit on behalf of\n",
            "      the copyright owner. For the purposes of this definition, \"submitted\"\n",
            "      means any form of electronic, verbal, or written communication sent\n",
            "      to the Licensor or its representatives, including but not limited to\n",
            "      communication on electronic mailing lists, source code control systems,\n",
            "      and issue tracking systems that are managed by, or on behalf of, the\n",
            "      Licensor for the purpose of discussing and improving the Work, but\n",
            "      excluding communication that is conspicuously marked or otherwise\n",
            "      designated in writing by the copyright owner as \"Not a Contribution.\"\n",
            "\n",
            "      \"Contributor\" shall mean Licensor and any individual or Legal Entity\n",
            "      on behalf of whom a Contribution has been received by Licensor and\n",
            "      subsequently incorporated within the Work.\n",
            "\n",
            "   2. Grant of Copyright License. Subject to the terms and conditions of\n",
            "      this License, each Contributor hereby grants to You a perpetual,\n",
            "      worldwide, non-exclusive, no-charge, royalty-free, irrevocable\n",
            "      copyright license to reproduce, prepare Derivative Works of,\n",
            "      publicly display, publicly perform, sublicense, and distribute the\n",
            "      Work and such Derivative Works in Source or Object form.\n",
            "\n",
            "   3. Grant of Patent License. Subject to the terms and conditions of\n",
            "      this License, each Contributor hereby grants to You a perpetual,\n",
            "      worldwide, non-exclusive, no-charge, royalty-free, irrevocable\n",
            "      (except as stated in this section) patent license to make, have made,\n",
            "      use, offer to sell, sell, import, and otherwise transfer the Work,\n",
            "      where such license applies only to those patent claims licensable\n",
            "      by such Contributor that are necessarily infringed by their\n",
            "      Contribution(s) alone or by combination of their Contribution(s)\n",
            "      with the Work to which such Contribution(s) was submitted. If You\n",
            "      institute patent litigation against any entity (including a\n",
            "      cross-claim or counterclaim in a lawsuit) alleging that the Work\n",
            "      or a Contribution incorporated within the Work constitutes direct\n",
            "      or contributory patent infringement, then any patent licenses\n",
            "      granted to You under this License for that Work shall terminate\n",
            "      as of the date such litigation is filed.\n",
            "\n",
            "   4. Redistribution. You may reproduce and distribute copies of the\n",
            "      Work or Derivative Works thereof in any medium, with or without\n",
            "      modifications, and in Source or Object form, provided that You\n",
            "      meet the following conditions:\n",
            "\n",
            "      (a) You must give any other recipients of the Work or\n",
            "          Derivative Works a copy of this License; and\n",
            "\n",
            "      (b) You must cause any modified files to carry prominent notices\n",
            "          stating that You changed the files; and\n",
            "\n",
            "      (c) You must retain, in the Source form of any Derivative Works\n",
            "          that You distribute, all copyright, patent, trademark, and\n",
            "          attribution notices from the Source form of the Work,\n",
            "          excluding those notices that do not pertain to any part of\n",
            "          the Derivative Works; and\n",
            "\n",
            "      (d) If the Work includes a \"NOTICE\" text file as part of its\n",
            "          distribution, then any Derivative Works that You distribute must\n",
            "          include a readable copy of the attribution notices contained\n",
            "          within such NOTICE file, excluding those notices that do not\n",
            "          pertain to any part of the Derivative Works, in at least one\n",
            "          of the following places: within a NOTICE text file distributed\n",
            "          as part of the Derivative Works; within the Source form or\n",
            "          documentation, if provided along with the Derivative Works; or,\n",
            "          within a display generated by the Derivative Works, if and\n",
            "          wherever such third-party notices normally appear. The contents\n",
            "          of the NOTICE file are for informational purposes only and\n",
            "          do not modify the License. You may add Your own attribution\n",
            "          notices within Derivative Works that You distribute, alongside\n",
            "          or as an addendum to the NOTICE text from the Work, provided\n",
            "          that such additional attribution notices cannot be construed\n",
            "          as modifying the License.\n",
            "\n",
            "      You may add Your own copyright statement to Your modifications and\n",
            "      may provide additional or different license terms and conditions\n",
            "      for use, reproduction, or distribution of Your modifications, or\n",
            "      for any such Derivative Works as a whole, provided Your use,\n",
            "      reproduction, and distribution of the Work otherwise complies with\n",
            "      the conditions stated in this License.\n",
            "\n",
            "   5. Submission of Contributions. Unless You explicitly state otherwise,\n",
            "      any Contribution intentionally submitted for inclusion in the Work\n",
            "      by You to the Licensor shall be under the terms and conditions of\n",
            "      this License, without any additional terms or conditions.\n",
            "      Notwithstanding the above, nothing herein shall supersede or modify\n",
            "      the terms of any separate license agreement you may have executed\n",
            "      with Licensor regarding such Contributions.\n",
            "\n",
            "   6. Trademarks. This License does not grant permission to use the trade\n",
            "      names, trademarks, service marks, or product names of the Licensor,\n",
            "      except as required for reasonable and customary use in describing the\n",
            "      origin of the Work and reproducing the content of the NOTICE file.\n",
            "\n",
            "   7. Disclaimer of Warranty. Unless required by applicable law or\n",
            "      agreed to in writing, Licensor provides the Work (and each\n",
            "      Contributor provides its Contributions) on an \"AS IS\" BASIS,\n",
            "      WITHOUT WARRANTIES OR CONDITIONS OF ANY KIND, either express or\n",
            "      implied, including, without limitation, any warranties or conditions\n",
            "      of TITLE, NON-INFRINGEMENT, MERCHANTABILITY, or FITNESS FOR A\n",
            "      PARTICULAR PURPOSE. You are solely responsible for determining the\n",
            "      appropriateness of using or redistributing the Work and assume any\n",
            "      risks associated with Your exercise of permissions under this License.\n",
            "\n",
            "   8. Limitation of Liability. In no event and under no legal theory,\n",
            "      whether in tort (including negligence), contract, or otherwise,\n",
            "      unless required by applicable law (such as deliberate and grossly\n",
            "      negligent acts) or agreed to in writing, shall any Contributor be\n",
            "      liable to You for damages, including any direct, indirect, special,\n",
            "      incidental, or consequential damages of any character arising as a\n",
            "      result of this License or out of the use or inability to use the\n",
            "      Work (including but not limited to damages for loss of goodwill,\n",
            "      work stoppage, computer failure or malfunction, or any and all\n",
            "      other commercial damages or losses), even if such Contributor\n",
            "      has been advised of the possibility of such damages.\n",
            "\n",
            "   9. Accepting Warranty or Additional Liability. While redistributing\n",
            "      the Work or Derivative Works thereof, You may choose to offer,\n",
            "      and charge a fee for, acceptance of support, warranty, indemnity,\n",
            "      or other liability obligations and/or rights consistent with this\n",
            "      License. However, in accepting such obligations, You may act only\n",
            "      on Your own behalf and on Your sole responsibility, not on behalf\n",
            "      of any other Contributor, and only if You agree to indemnify,\n",
            "      defend, and hold each Contributor harmless for any liability\n",
            "      incurred by, or claims asserted against, such Contributor by reason\n",
            "      of your accepting any such warranty or additional liability.\n",
            "\n",
            "   END OF TERMS AND CONDITIONS\n",
            "   APPENDIX: How to apply the Apache License to your work.\n",
            "\n",
            "      To apply the Apache License to your work, attach the following\n",
            "      boilerplate notice, with the fields enclosed by brackets \"[]\"\n",
            "      replaced with your own identifying information. (Don't include\n",
            "      the brackets!)  The text should be enclosed in the appropriate\n",
            "      comment syntax for the file format. We also recommend that a\n",
            "      file or class name and description of purpose be included on the\n",
            "      same \"printed page\" as the copyright notice for easier\n",
            "      identification within third-party archives.\n",
            "\n",
            "   Copyright [yyyy] [name of copyright owner]\n",
            "\n",
            "   Licensed under the Apache License, Version 2.0 (the \"License\");\n",
            "   you may not use this file except in compliance with the License.\n",
            "   You may obtain a copy of the License at\n",
            "\n",
            "       http://www.apache.org/licenses/LICENSE-2.0\n",
            "\n",
            "   Unless required by applicable law or agreed to in writing, software\n",
            "   distributed under the License is distributed on an \"AS IS\" BASIS,\n",
            "   WITHOUT WARRANTIES OR CONDITIONS OF ANY KIND, either express or implied.\n",
            "   See the License for the specific language governing permissions and\n",
            "   limitations under the License.\n",
            "\n",
            "Location: /home/tshen/dp-100/mslearn-azure-ml/.venv/lib/python3.12/site-packages\n",
            "Requires: alembic, cryptography, docker, fastmcp, Flask, graphene, gunicorn, matplotlib, mlflow-skinny, mlflow-tracing, numpy, pandas, pyarrow, scikit-learn, scipy, sqlalchemy\n",
            "Required-by: \n",
            "Note: you may need to restart the kernel to use updated packages.\n"
          ]
        }
      ],
      "source": [
        "pip show mlflow"
      ]
    },
    {
      "attachments": {},
      "cell_type": "markdown",
      "metadata": {},
      "source": [
        "Prepare the data\n"
      ]
    },
    {
      "cell_type": "code",
      "execution_count": 3,
      "metadata": {
        "gather": {
          "logged": 1668175953133
        }
      },
      "outputs": [
        {
          "name": "stdout",
          "output_type": "stream",
          "text": [
            "Reading data...\n"
          ]
        },
        {
          "data": {
            "text/html": [
              "<div>\n",
              "<style scoped>\n",
              "    .dataframe tbody tr th:only-of-type {\n",
              "        vertical-align: middle;\n",
              "    }\n",
              "\n",
              "    .dataframe tbody tr th {\n",
              "        vertical-align: top;\n",
              "    }\n",
              "\n",
              "    .dataframe thead th {\n",
              "        text-align: right;\n",
              "    }\n",
              "</style>\n",
              "<table border=\"1\" class=\"dataframe\">\n",
              "  <thead>\n",
              "    <tr style=\"text-align: right;\">\n",
              "      <th></th>\n",
              "      <th>PatientID</th>\n",
              "      <th>Pregnancies</th>\n",
              "      <th>PlasmaGlucose</th>\n",
              "      <th>DiastolicBloodPressure</th>\n",
              "      <th>TricepsThickness</th>\n",
              "      <th>SerumInsulin</th>\n",
              "      <th>BMI</th>\n",
              "      <th>DiabetesPedigree</th>\n",
              "      <th>Age</th>\n",
              "      <th>Diabetic</th>\n",
              "    </tr>\n",
              "  </thead>\n",
              "  <tbody>\n",
              "    <tr>\n",
              "      <th>0</th>\n",
              "      <td>1354778</td>\n",
              "      <td>0</td>\n",
              "      <td>171</td>\n",
              "      <td>80</td>\n",
              "      <td>34</td>\n",
              "      <td>23</td>\n",
              "      <td>43.509726</td>\n",
              "      <td>1.213191</td>\n",
              "      <td>21</td>\n",
              "      <td>0</td>\n",
              "    </tr>\n",
              "    <tr>\n",
              "      <th>1</th>\n",
              "      <td>1147438</td>\n",
              "      <td>8</td>\n",
              "      <td>92</td>\n",
              "      <td>93</td>\n",
              "      <td>47</td>\n",
              "      <td>36</td>\n",
              "      <td>21.240576</td>\n",
              "      <td>0.158365</td>\n",
              "      <td>23</td>\n",
              "      <td>0</td>\n",
              "    </tr>\n",
              "    <tr>\n",
              "      <th>2</th>\n",
              "      <td>1640031</td>\n",
              "      <td>7</td>\n",
              "      <td>115</td>\n",
              "      <td>47</td>\n",
              "      <td>52</td>\n",
              "      <td>35</td>\n",
              "      <td>41.511523</td>\n",
              "      <td>0.079019</td>\n",
              "      <td>23</td>\n",
              "      <td>0</td>\n",
              "    </tr>\n",
              "    <tr>\n",
              "      <th>3</th>\n",
              "      <td>1883350</td>\n",
              "      <td>9</td>\n",
              "      <td>103</td>\n",
              "      <td>78</td>\n",
              "      <td>25</td>\n",
              "      <td>304</td>\n",
              "      <td>29.582192</td>\n",
              "      <td>1.282870</td>\n",
              "      <td>43</td>\n",
              "      <td>1</td>\n",
              "    </tr>\n",
              "    <tr>\n",
              "      <th>4</th>\n",
              "      <td>1424119</td>\n",
              "      <td>1</td>\n",
              "      <td>85</td>\n",
              "      <td>59</td>\n",
              "      <td>27</td>\n",
              "      <td>35</td>\n",
              "      <td>42.604536</td>\n",
              "      <td>0.549542</td>\n",
              "      <td>22</td>\n",
              "      <td>0</td>\n",
              "    </tr>\n",
              "  </tbody>\n",
              "</table>\n",
              "</div>"
            ],
            "text/plain": [
              "   PatientID  Pregnancies  PlasmaGlucose  DiastolicBloodPressure  \\\n",
              "0    1354778            0            171                      80   \n",
              "1    1147438            8             92                      93   \n",
              "2    1640031            7            115                      47   \n",
              "3    1883350            9            103                      78   \n",
              "4    1424119            1             85                      59   \n",
              "\n",
              "   TricepsThickness  SerumInsulin        BMI  DiabetesPedigree  Age  Diabetic  \n",
              "0                34            23  43.509726          1.213191   21         0  \n",
              "1                47            36  21.240576          0.158365   23         0  \n",
              "2                52            35  41.511523          0.079019   23         0  \n",
              "3                25           304  29.582192          1.282870   43         1  \n",
              "4                27            35  42.604536          0.549542   22         0  "
            ]
          },
          "execution_count": 3,
          "metadata": {},
          "output_type": "execute_result"
        }
      ],
      "source": [
        "import pandas as pd\n",
        "\n",
        "print(\"Reading data...\")\n",
        "df = pd.read_csv('./data/diabetes.csv')\n",
        "df.head()"
      ]
    },
    {
      "attachments": {},
      "cell_type": "markdown",
      "metadata": {},
      "source": [
        "Next, you'll split the data into features and the label (Diabetes):"
      ]
    },
    {
      "cell_type": "code",
      "execution_count": 4,
      "metadata": {
        "gather": {
          "logged": 1668175956555
        }
      },
      "outputs": [
        {
          "name": "stdout",
          "output_type": "stream",
          "text": [
            "Splitting data...\n"
          ]
        }
      ],
      "source": [
        "print(\"Splitting data...\")\n",
        "X, y = df[['Pregnancies','PlasmaGlucose','DiastolicBloodPressure','TricepsThickness','SerumInsulin','BMI','DiabetesPedigree','Age']].values, df['Diabetic'].values"
      ]
    },
    {
      "cell_type": "code",
      "execution_count": 5,
      "metadata": {
        "gather": {
          "logged": 1668175959902
        }
      },
      "outputs": [],
      "source": [
        "from sklearn.model_selection import train_test_split\n",
        "\n",
        "X_train, X_test, y_train, y_test = train_test_split(X, y, test_size=0.30, random_state=0)"
      ]
    },
    {
      "attachments": {},
      "cell_type": "markdown",
      "metadata": {},
      "source": [
        "You now have four dataframes:\n",
        "\n",
        "- `X_train`: The training dataset containing the features.\n",
        "- `X_test`: The test dataset containing the features.\n",
        "- `y_train`: The label for the training dataset.\n",
        "- `y_test`: The label for the test dataset.\n",
        "\n",
        "You'll use these to train and evaluate the models you'll train.\n",
        "\n",
        "Create an MLflow experiment\n",
        "\n",
        "Now that you're ready to train machine learning models, you'll first create an MLflow experiment. By creating the experiment, you can group all runs within one experiment and make it easier to find the runs in the studio."
      ]
    },
    {
      "cell_type": "code",
      "execution_count": 6,
      "metadata": {},
      "outputs": [
        {
          "name": "stderr",
          "output_type": "stream",
          "text": [
            "2025/09/20 10:13:08 INFO mlflow.tracking.fluent: Experiment with name 'mlflow-experiment-diabetes' does not exist. Creating a new experiment.\n"
          ]
        },
        {
          "data": {
            "text/plain": [
              "<Experiment: artifact_location='file:///home/tshen/dp-100/mslearn-azure-ml/Labs/07/mlruns/469355466562973009', creation_time=1758381188945, experiment_id='469355466562973009', last_update_time=1758381188945, lifecycle_stage='active', name='mlflow-experiment-diabetes', tags={}>"
            ]
          },
          "execution_count": 6,
          "metadata": {},
          "output_type": "execute_result"
        }
      ],
      "source": [
        "import mlflow\n",
        "experiment_name = \"mlflow-experiment-diabetes\"\n",
        "mlflow.set_experiment(experiment_name)"
      ]
    },
    {
      "attachments": {},
      "cell_type": "markdown",
      "metadata": {},
      "source": [
        "Train and track models\n",
        "\n",
        "To track a model you train, you can use MLflow and enable autologging. The following cell will train a classification model using logistic regression. You'll notice that you don't need to calculate any evaluation metrics because they're automatically created and logged by MLflow."
      ]
    },
    {
      "cell_type": "code",
      "execution_count": 17,
      "metadata": {
        "gather": {
          "logged": 1668176121803
        }
      },
      "outputs": [],
      "source": [
        "import tensorflow as tf\n",
        "from sklearn.linear_model import LogisticRegression\n",
        "\n",
        "with mlflow.start_run():\n",
        "    mlflow.sklearn.autolog()\n",
        "\n",
        "    # Train with GPU if available\n",
        "    with tf.device('/GPU:0'):\n",
        "        model = LogisticRegression(C=1/0.1, solver=\"liblinear\").fit(X_train, y_train)\n"
      ]
    },
    {
      "attachments": {},
      "cell_type": "markdown",
      "metadata": {},
      "source": [
        "You can also use custom logging with MLflow. You can add custom logging to autologging, or you can use only custom logging.\n",
        "\n",
        "Let's train two more models with scikit-learn. Since you ran the `mlflow.sklearn.autolog()` command before, MLflow will now automatically log any model trained with scikit-learn. To disable the autologging, run the following cell:"
      ]
    },
    {
      "cell_type": "code",
      "execution_count": 8,
      "metadata": {
        "gather": {
          "logged": 1668177101622
        },
        "jupyter": {
          "outputs_hidden": false,
          "source_hidden": false
        },
        "nteract": {
          "transient": {
            "deleting": false
          }
        }
      },
      "outputs": [],
      "source": [
        "mlflow.sklearn.autolog(disable=True)"
      ]
    },
    {
      "attachments": {},
      "cell_type": "markdown",
      "metadata": {},
      "source": [
        "Now, you can train and track models using only custom logging. \n",
        "\n",
        "When you run the following cell, you'll only log one parameter and one metric."
      ]
    },
    {
      "cell_type": "code",
      "execution_count": 18,
      "metadata": {
        "jupyter": {
          "outputs_hidden": false,
          "source_hidden": false
        },
        "nteract": {
          "transient": {
            "deleting": false
          }
        }
      },
      "outputs": [],
      "source": [
        "import tensorflow as tf\n",
        "from sklearn.linear_model import LogisticRegression\n",
        "import numpy as np\n",
        "\n",
        "with mlflow.start_run():\n",
        "    # with tf.device('/GPU:0'):\n",
        "    model = LogisticRegression(C=1/0.1, solver=\"liblinear\").fit(X_train, y_train)\n",
        "    y_hat = model.predict(X_test)\n",
        "    acc = np.average(y_hat == y_test)\n",
        "    mlflow.log_param(\"regularization_rate\", 0.1)\n",
        "    mlflow.log_metric(\"Accuracy\", acc)"
      ]
    },
    {
      "attachments": {},
      "cell_type": "markdown",
      "metadata": {},
      "source": [
        "The reason why you'd want to track models, could be to compare the results of models you train with different hyperparameter values. \n",
        "\n",
        "For example, you just trained a logistic regression model with a regularization rate of 0.1. Now, train another model, but this time with a regularization rate of 0.01. Since you're also tracking the accuracy, you can compare and decide which rate results in a better performing model."
      ]
    },
    {
      "cell_type": "code",
      "execution_count": 13,
      "metadata": {
        "gather": {
          "logged": 1668177593117
        },
        "jupyter": {
          "outputs_hidden": false,
          "source_hidden": false
        },
        "nteract": {
          "transient": {
            "deleting": false
          }
        }
      },
      "outputs": [],
      "source": [
        "from sklearn.linear_model import LogisticRegression\n",
        "import numpy as np\n",
        "\n",
        "with mlflow.start_run():\n",
        "    model = LogisticRegression(C=1/0.01, solver=\"liblinear\").fit(X_train, y_train)\n",
        "\n",
        "    y_hat = model.predict(X_test)\n",
        "    acc = np.average(y_hat == y_test)\n",
        "\n",
        "    mlflow.log_param(\"regularization_rate\", 0.01)\n",
        "    mlflow.log_metric(\"Accuracy\", acc)"
      ]
    },
    {
      "attachments": {},
      "cell_type": "markdown",
      "metadata": {},
      "source": [
        "Another reason to track your model's results is when you're testing another estimator. All models you've trained so far used the logistic regression estimator. \n",
        "\n",
        "Run the following cell to train a model with the decision tree classifier estimator and review whether the accuracy is higher compared to the other runs."
      ]
    },
    {
      "cell_type": "code",
      "execution_count": 14,
      "metadata": {
        "gather": {
          "logged": 1668177807904
        },
        "jupyter": {
          "outputs_hidden": false,
          "source_hidden": false
        },
        "nteract": {
          "transient": {
            "deleting": false
          }
        }
      },
      "outputs": [],
      "source": [
        "from sklearn.tree import DecisionTreeClassifier\n",
        "import numpy as np\n",
        "\n",
        "with mlflow.start_run():\n",
        "    model = DecisionTreeClassifier().fit(X_train, y_train)\n",
        "\n",
        "    y_hat = model.predict(X_test)\n",
        "    acc = np.average(y_hat == y_test)\n",
        "\n",
        "    mlflow.log_param(\"estimator\", \"DecisionTreeClassifier\")\n",
        "    mlflow.log_metric(\"Accuracy\", acc)"
      ]
    },
    {
      "attachments": {},
      "cell_type": "markdown",
      "metadata": {},
      "source": [
        "Finally, let's try to log an artifact. An artifact can be any file. For example, you can plot the ROC curve and store the plot as an image. The image can be logged as an artifact. \n",
        "\n",
        "Run the following cell to log a parameter, metric, and an artifact."
      ]
    },
    {
      "cell_type": "code",
      "execution_count": 16,
      "metadata": {},
      "outputs": [],
      "source": [
        "from sklearn.tree import DecisionTreeClassifier\n",
        "from sklearn.metrics import roc_curve\n",
        "import matplotlib.pyplot as plt\n",
        "import numpy as np\n",
        "\n",
        "with mlflow.start_run():\n",
        "    model = DecisionTreeClassifier().fit(X_train, y_train)\n",
        "\n",
        "    y_hat = model.predict(X_test)\n",
        "    acc = np.average(y_hat == y_test)\n",
        "\n",
        "    # plot ROC curve\n",
        "    y_scores = model.predict_proba(X_test)\n",
        "\n",
        "    fpr, tpr, thresholds = roc_curve(y_test, y_scores[:,1])\n",
        "    fig = plt.figure(figsize=(6, 4))\n",
        "    # Plot the diagonal 50% line\n",
        "    plt.plot([0, 1], [0, 1], 'k--')\n",
        "    # Plot the FPR and TPR achieved by our model\n",
        "    plt.plot(fpr, tpr)\n",
        "    plt.xlabel('False Positive Rate')\n",
        "    plt.ylabel('True Positive Rate')\n",
        "    plt.title('ROC Curve')\n",
        "    plt.savefig(\"ROC-Curve.png\")\n",
        "\n",
        "    mlflow.log_param(\"estimator\", \"DecisionTreeClassifier\")\n",
        "    mlflow.log_metric(\"Accuracy\", acc)\n",
        "    mlflow.log_artifact(\"ROC-Curve.png\")"
      ]
    },
    {
      "attachments": {},
      "cell_type": "markdown",
      "metadata": {},
      "source": [
        "Review the model's results on the Jobs page of the Azure Machine Learning studio. \n",
        "\n",
        "- You'll find the parameters under **Params** in the **Overview** tab.\n",
        "- You'll find the metrics under **Metrics** in the **Overview** tab, and in the **Metrics** tab.\n",
        "- You'll find the artifacts in the **Outputs + logs** tab.\n",
        "\n",
        "![Screenshot of outputs and logs tab on the Jobs page.](./images/output-logs.png)"
      ]
    }
  ],
  "metadata": {
    "kernel_info": {
      "name": "python38-azureml"
    },
    "kernelspec": {
      "display_name": ".venv",
      "language": "python",
      "name": "python3"
    },
    "language_info": {
      "codemirror_mode": {
        "name": "ipython",
        "version": 3
      },
      "file_extension": ".py",
      "mimetype": "text/x-python",
      "name": "python",
      "nbconvert_exporter": "python",
      "pygments_lexer": "ipython3",
      "version": "3.12.3"
    },
    "microsoft": {
      "host": {
        "AzureML": {
          "notebookHasBeenCompleted": true
        }
      }
    },
    "nteract": {
      "version": "nteract-front-end@1.0.0"
    }
  },
  "nbformat": 4,
  "nbformat_minor": 0
}
