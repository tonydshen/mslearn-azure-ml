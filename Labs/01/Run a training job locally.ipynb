{
  "cells": [
    {
      "attachments": {},
      "cell_type": "markdown",
      "metadata": {},
      "source": [
        "Check if azure-ai-ml is installed"
      ]
    },
    {
      "cell_type": "code",
      "execution_count": 1,
      "metadata": {
        "gather": {
          "logged": 1667393334445
        }
      },
      "outputs": [
        {
          "name": "stdout",
          "output_type": "stream",
          "text": [
            "Name: azure-ai-ml\n",
            "Version: 1.29.0\n",
            "Summary: Microsoft Azure Machine Learning Client Library for Python\n",
            "Home-page: https://github.com/Azure/azure-sdk-for-python\n",
            "Author: Microsoft Corporation\n",
            "Author-email: azuresdkengsysadmins@microsoft.com\n",
            "License: MIT License\n",
            "Location: c:\\Users\\Tony\\AppData\\Local\\Programs\\Python\\Python313\\Lib\\site-packages\n",
            "Requires: azure-common, azure-core, azure-mgmt-core, azure-monitor-opentelemetry, azure-storage-blob, azure-storage-file-datalake, azure-storage-file-share, colorama, isodate, jsonschema, marshmallow, pydash, pyjwt, pyyaml, strictyaml, tqdm, typing-extensions\n",
            "Required-by: \n",
            "Note: you may need to restart the kernel to use updated packages.\n"
          ]
        }
      ],
      "source": [
        "pip show azure-ai-ml"
      ]
    },
    {
      "attachments": {},
      "cell_type": "markdown",
      "metadata": {},
      "source": [
        "Connect to my worksapce"
      ]
    },
    {
      "cell_type": "code",
      "execution_count": 18,
      "metadata": {},
      "outputs": [
        {
          "data": {
            "text/plain": [
              "MLClient(credential=<azure.identity._credentials.default.DefaultAzureCredential object at 0x00000199577A5400>,\n",
              "         subscription_id=c6cdfd9c-3767-4be7-a343-0acd27ddefb9,\n",
              "         resource_group_name=rg-tshen-0917,\n",
              "         workspace_name=ml-ws-tshen-0917)"
            ]
          },
          "execution_count": 18,
          "metadata": {},
          "output_type": "execute_result"
        }
      ],
      "source": [
        "#import    required    libraries\n",
        "from azure.ai.ml import MLClient\n",
        "from azure.identity import DefaultAzureCredential\n",
        "#Enter    details    of    your    Azure    Machine    Learning    workspace\n",
        "subscription_id = 'c6cdfd9c-3767-4be7-a343-0acd27ddefb9'\n",
        "resource_group = 'rg-tshen-0917'\n",
        "workspace = 'ml-ws-tshen-0917'\n",
        "#connect to the workspace\n",
        "ml_client    =    MLClient(DefaultAzureCredential(),    subscription_id,\n",
        "resource_group,    workspace)\n",
        "ml_client"
      ]
    },
    {
      "attachments": {},
      "cell_type": "markdown",
      "metadata": {
        "nteract": {
          "transient": {
            "deleting": false
          }
        }
      },
      "source": [
        "Create source code directory if it does not exist"
      ]
    },
    {
      "cell_type": "code",
      "execution_count": 19,
      "metadata": {
        "gather": {
          "logged": 1667395025715
        },
        "jupyter": {
          "outputs_hidden": false,
          "source_hidden": false
        },
        "nteract": {
          "transient": {
            "deleting": false
          }
        }
      },
      "outputs": [],
      "source": [
        "# create a local directory\n",
        "import os\n",
        "\n",
        "train_src_dir = \"./src\"\n",
        "os.makedirs(train_src_dir, exist_ok=True)"
      ]
    },
    {
      "attachments": {},
      "cell_type": "markdown",
      "metadata": {
        "nteract": {
          "transient": {
            "deleting": false
          }
        }
      },
      "source": [
        "Next, you'll create the endpoint by running the following cell. This may take several minutes. While your endpoint is being created, you can read about [what are Azure Machine Learning endpoints](https://learn.microsoft.com/azure/machine-learning/concept-endpoints)."
      ]
    },
    {
      "cell_type": "code",
      "execution_count": 24,
      "metadata": {
        "gather": {
          "logged": 1667395786392
        },
        "jupyter": {
          "outputs_hidden": false,
          "source_hidden": false
        },
        "nteract": {
          "transient": {
            "deleting": false
          }
        }
      },
      "outputs": [
        {
          "name": "stdout",
          "output_type": "stream",
          "text": [
            "Overwriting ./src/main.py\n"
          ]
        }
      ],
      "source": [
        "%%writefile ./src/main.py\n",
        "import os\n",
        "import argparse\n",
        "import pandas as pd\n",
        "import mlflow\n",
        "import mlflow.sklearn\n",
        "from sklearn.ensemble import GradientBoostingClassifier\n",
        "from sklearn.metrics import classification_report\n",
        "from sklearn.model_selection import train_test_split\n",
        "\n",
        "def main():\n",
        "    parser = argparse.ArgumentParser()\n",
        "    parser.add_argument(\"--data\", type=str, help=\"Path to input data\")\n",
        "    parser.add_argument(\"--test_train_ratio\", type=float, default=0.25)\n",
        "    parser.add_argument(\"--n_estimators\", type=int, default=100)\n",
        "    parser.add_argument(\"--learning_rate\", type=float, default=0.1)\n",
        "    parser.add_argument(\"--registered_model_name\", type=str, help=\"Model name\")\n",
        "    args = parser.parse_args()\n",
        "\n",
        "    mlflow.start_run()\n",
        "    mlflow.sklearn.autolog()\n",
        "\n",
        "    credit_df = pd.read_csv(args.data, header=1, index_col=0)\n",
        "    train_df, test_df = train_test_split(credit_df, test_size=args.test_train_ratio)\n",
        "\n",
        "    y_train = train_df.pop(\"default payment next month\")\n",
        "    X_train = train_df.values\n",
        "    y_test = test_df.pop(\"default payment next month\")\n",
        "    X_test = test_df.values\n",
        "\n",
        "    clf = GradientBoostingClassifier(n_estimators=args.n_estimators, learning_rate=args.learning_rate)\n",
        "    clf.fit(X_train, y_train)\n",
        "    y_pred = clf.predict(X_test)\n",
        "\n",
        "    print(classification_report(y_test, y_pred))\n",
        "\n",
        "    mlflow.sklearn.log_model(sk_model=clf, registered_model_name=args.registered_model_name, artifact_path=args.registered_model_name)\n",
        "    # mlflow.sklearn.save_model(sk_model=clf, path=os.path.join(args.registered_model_name, \"trained_model\"))\n",
        "\n",
        "    mlflow.end_run()\n",
        "\n",
        "if __name__ == \"__main__\":\n",
        "    main()"
      ]
    },
    {
      "attachments": {},
      "cell_type": "markdown",
      "metadata": {
        "nteract": {
          "transient": {
            "deleting": false
          }
        }
      },
      "source": [
        "Download data"
      ]
    },
    {
      "cell_type": "code",
      "execution_count": 21,
      "metadata": {
        "gather": {
          "logged": 1667395410378
        },
        "jupyter": {
          "outputs_hidden": false,
          "source_hidden": false
        },
        "nteract": {
          "transient": {
            "deleting": false
          }
        }
      },
      "outputs": [
        {
          "data": {
            "text/plain": [
              "('./data/credit_card.csv', <http.client.HTTPMessage at 0x19959527a70>)"
            ]
          },
          "execution_count": 21,
          "metadata": {},
          "output_type": "execute_result"
        }
      ],
      "source": [
        "# download data locally\n",
        "import os\n",
        "import urllib.request\n",
        "os.makedirs(\"./data\", exist_ok=True)\n",
        "\n",
        "urllib.request.urlretrieve(\n",
        "    \"https://azuremlexamples.blob.core.windows.net/datasets/credit_card/default_of_credit_card_clients.csv\",\n",
        "    \"./data/credit_card.csv\"\n",
        ")"
      ]
    },
    {
      "attachments": {},
      "cell_type": "markdown",
      "metadata": {
        "nteract": {
          "transient": {
            "deleting": false
          }
        }
      },
      "source": [
        "Start mlfow"
      ]
    },
    {
      "cell_type": "code",
      "execution_count": 12,
      "metadata": {},
      "outputs": [
        {
          "name": "stderr",
          "output_type": "stream",
          "text": [
            "2025/09/17 16:20:48 INFO mlflow.tracking.fluent: Experiment with name 'credit_defaults_local' does not exist. Creating a new experiment.\n"
          ]
        },
        {
          "data": {
            "text/plain": [
              "<Experiment: artifact_location='file:///f:/app/dp-100/azure-ml-labs/Labs/01/mlruns/494632932508169188', creation_time=1758144048333, experiment_id='494632932508169188', last_update_time=1758144048333, lifecycle_stage='active', name='credit_defaults_local', tags={}>"
            ]
          },
          "execution_count": 12,
          "metadata": {},
          "output_type": "execute_result"
        }
      ],
      "source": [
        "import mlflow\n",
        "mlflow.set_experiment(\"credit_defaults_local\")"
      ]
    },
    {
      "cell_type": "markdown",
      "metadata": {},
      "source": [
        "Run main.py"
      ]
    },
    {
      "cell_type": "code",
      "execution_count": 25,
      "metadata": {
        "gather": {
          "logged": 1667395487568
        },
        "jupyter": {
          "outputs_hidden": false,
          "source_hidden": false
        },
        "nteract": {
          "transient": {
            "deleting": false
          }
        }
      },
      "outputs": [
        {
          "name": "stdout",
          "output_type": "stream",
          "text": [
            "              precision    recall  f1-score   support\n",
            "\n",
            "           0       0.84      0.94      0.89      5896\n",
            "           1       0.64      0.35      0.45      1604\n",
            "\n",
            "    accuracy                           0.82      7500\n",
            "   macro avg       0.74      0.65      0.67      7500\n",
            "weighted avg       0.80      0.82      0.80      7500\n",
            "\n"
          ]
        },
        {
          "name": "stderr",
          "output_type": "stream",
          "text": [
            "2025/09/18 09:46:56 WARNING mlflow.sklearn: Failed to log training dataset information to MLflow Tracking. Reason: 'Series' object has no attribute 'flatten'\n",
            "2025/09/18 09:47:16 WARNING mlflow.models.model: `artifact_path` is deprecated. Please use `name` instead.\n",
            "2025/09/18 09:47:22 WARNING mlflow.models.model: Model logged without a signature and input example. Please set `input_example` parameter when logging the model to auto infer the model signature.\n",
            "Registered model 'local_model' already exists. Creating a new version of this model...\n",
            "Created version '5' of model 'local_model'.\n"
          ]
        }
      ],
      "source": [
        "!python ./src/main.py --data ./data/credit_card.csv --registered_model_name local_model"
      ]
    },
    {
      "cell_type": "markdown",
      "metadata": {},
      "source": [
        "Run main.py again"
      ]
    },
    {
      "cell_type": "code",
      "execution_count": null,
      "metadata": {
        "gather": {
          "logged": 1667341237843
        },
        "jupyter": {
          "outputs_hidden": false,
          "source_hidden": false
        },
        "nteract": {
          "transient": {
            "deleting": false
          }
        }
      },
      "outputs": [],
      "source": [
        "!python ./scr/main.py ./data/credit_card.csv --registered_model_name local_model --experiment_name credit_defaults_local"
      ]
    },
    {
      "attachments": {},
      "cell_type": "markdown",
      "metadata": {
        "nteract": {
          "transient": {
            "deleting": false
          }
        }
      },
      "source": [
        "Write main2.py"
      ]
    },
    {
      "cell_type": "code",
      "execution_count": 29,
      "metadata": {
        "gather": {
          "logged": 1667385183402
        },
        "jupyter": {
          "outputs_hidden": false,
          "source_hidden": false
        },
        "nteract": {
          "transient": {
            "deleting": false
          }
        }
      },
      "outputs": [
        {
          "name": "stdout",
          "output_type": "stream",
          "text": [
            "Overwriting ./src/main2.py\n"
          ]
        }
      ],
      "source": [
        "%%writefile ./src/main2.py\n",
        "import os\n",
        "import argparse\n",
        "import pandas as pd\n",
        "import mlflow\n",
        "import mlflow.sklearn\n",
        "from sklearn.ensemble import GradientBoostingClassifier\n",
        "from sklearn.metrics import classification_report\n",
        "from sklearn.model_selection import train_test_split\n",
        "\n",
        "def main():\n",
        "    parser = argparse.ArgumentParser()\n",
        "    parser.add_argument(\"--data\", type=str, help=\"Path to input data\")\n",
        "    parser.add_argument(\"--test_train_ratio\", type=float, default=0.25)\n",
        "    parser.add_argument(\"--n_estimators\", type=int, default=100)\n",
        "    parser.add_argument(\"--learning_rate\", type=float, default=0.1)\n",
        "    parser.add_argument(\"--registered_model_name\", type=str, help=\"Model name\")\n",
        "    parser.add_argument(\"--experiment_name\", type=str, default=\"credit_defaults_local\")\n",
        "    args = parser.parse_args()\n",
        "\n",
        "    # Set experiment name\n",
        "    mlflow.set_experiment(args.experiment_name)\n",
        "\n",
        "    with mlflow.start_run():\n",
        "        mlflow.sklearn.autolog()\n",
        "\n",
        "        credit_df = pd.read_csv(args.data, header=1, index_col=0)\n",
        "        train_df, test_df = train_test_split(credit_df, test_size=args.test_train_ratio)\n",
        "\n",
        "        y_train = train_df.pop(\"default payment next month\")\n",
        "        X_train = train_df.values\n",
        "        y_test = test_df.pop(\"default payment next month\")\n",
        "        X_test = test_df.values\n",
        "\n",
        "        clf = GradientBoostingClassifier(n_estimators=args.n_estimators, learning_rate=args.learning_rate)\n",
        "        clf.fit(X_train, y_train)\n",
        "        y_pred = clf.predict(X_test)\n",
        "\n",
        "        print(classification_report(y_test, y_pred))\n",
        "\n",
        "        mlflow.sklearn.log_model(sk_model=clf, registered_model_name=args.registered_model_name, artifact_path=args.registered_model_name)\n",
        "        # mlflow.sklearn.save_model(sk_model=clf, path=os.path.join(args.registered_model_name, \"trained_model\"))\n",
        "\n",
        "if __name__ == \"__main__\":\n",
        "    main()\n"
      ]
    },
    {
      "cell_type": "markdown",
      "metadata": {},
      "source": [
        "Run main2.py"
      ]
    },
    {
      "cell_type": "code",
      "execution_count": 30,
      "metadata": {},
      "outputs": [
        {
          "name": "stdout",
          "output_type": "stream",
          "text": [
            "              precision    recall  f1-score   support\n",
            "\n",
            "           0       0.84      0.95      0.89      5807\n",
            "           1       0.67      0.38      0.48      1693\n",
            "\n",
            "    accuracy                           0.82      7500\n",
            "   macro avg       0.75      0.66      0.68      7500\n",
            "weighted avg       0.80      0.82      0.80      7500\n",
            "\n"
          ]
        },
        {
          "name": "stderr",
          "output_type": "stream",
          "text": [
            "2025/09/18 09:57:28 WARNING mlflow.sklearn: Failed to log training dataset information to MLflow Tracking. Reason: 'Series' object has no attribute 'flatten'\n",
            "2025/09/18 09:57:48 WARNING mlflow.models.model: `artifact_path` is deprecated. Please use `name` instead.\n",
            "2025/09/18 09:57:54 WARNING mlflow.models.model: Model logged without a signature and input example. Please set `input_example` parameter when logging the model to auto infer the model signature.\n",
            "Registered model 'local_model' already exists. Creating a new version of this model...\n",
            "Created version '7' of model 'local_model'.\n"
          ]
        }
      ],
      "source": [
        "!python ./src/main2.py --data ./data/credit_card.csv --registered_model_name local_model --experiment_name credit_defaults_local"
      ]
    }
  ],
  "metadata": {
    "kernel_info": {
      "name": "python38-azureml"
    },
    "kernelspec": {
      "display_name": "Python 3",
      "language": "python",
      "name": "python3"
    },
    "language_info": {
      "codemirror_mode": {
        "name": "ipython",
        "version": 3
      },
      "file_extension": ".py",
      "mimetype": "text/x-python",
      "name": "python",
      "nbconvert_exporter": "python",
      "pygments_lexer": "ipython3",
      "version": "3.13.5"
    },
    "microsoft": {
      "host": {
        "AzureML": {
          "notebookHasBeenCompleted": true
        }
      }
    },
    "nteract": {
      "version": "nteract-front-end@1.0.0"
    }
  },
  "nbformat": 4,
  "nbformat_minor": 2
}
